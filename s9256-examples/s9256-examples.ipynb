{
 "cells": [
  {
   "cell_type": "code",
   "execution_count": 1,
   "metadata": {},
   "outputs": [],
   "source": [
    "import tensorflow as tf\n",
    "import numpy as np"
   ]
  },
  {
   "cell_type": "code",
   "execution_count": 2,
   "metadata": {},
   "outputs": [
    {
     "data": {
      "text/plain": [
       "'Hello, TensorFlow!'"
      ]
     },
     "execution_count": 2,
     "metadata": {},
     "output_type": "execute_result"
    }
   ],
   "source": [
    "import tensorflow as tf\n",
    "import numpy as np\n",
    "tf.enable_eager_execution()\n",
    "tf.add(1, 2).numpy()\n",
    "3\n",
    "hello = tf.constant('Hello, TensorFlow!')\n",
    "hello.numpy()\n",
    "'Hello, TensorFlow!'"
   ]
  },
  {
   "cell_type": "markdown",
   "metadata": {},
   "source": [
    "# CNN Examples"
   ]
  },
  {
   "cell_type": "code",
   "execution_count": 3,
   "metadata": {},
   "outputs": [
    {
     "name": "stdout",
     "output_type": "stream",
     "text": [
      "total 20\r\n",
      "drwxrwxrwx 1 root 4096 Dec 30 19:48 .\r\n",
      "drwxr-xr-x 1 root 4096 Mar 13 04:29 ..\r\n",
      "-rw-rw-rw- 1 root 2984 Dec 30 18:37 README.md\r\n",
      "drwxrwxrwx 1 root 4096 Dec 30 19:48 docker-examples\r\n",
      "drwxrwxrwx 1 root 4096 Dec 30 18:46 nvidia-examples\r\n"
     ]
    }
   ],
   "source": [
    "!cd /workspace && ls -lag"
   ]
  },
  {
   "cell_type": "code",
   "execution_count": 4,
   "metadata": {},
   "outputs": [
    {
     "name": "stdout",
     "output_type": "stream",
     "text": [
      "total 8\r\n",
      "drwxrwxrwx 1 root 4096 Dec 30 18:46 .\r\n",
      "drwxrwxrwx 1 root 4096 Dec 30 19:48 ..\r\n",
      "lrwxrwxrwx 1 root   43 Dec 30 18:46 OpenSeq2Seq -> /opt/tensorflow/nvidia-examples/OpenSeq2Seq\r\n",
      "lrwxrwxrwx 1 root   40 Dec 30 18:46 big_lstm -> /opt/tensorflow/nvidia-examples/big_lstm\r\n",
      "lrwxrwxrwx 1 root   51 Dec 30 18:46 build_imagenet_data -> /opt/tensorflow/nvidia-examples/build_imagenet_data\r\n",
      "lrwxrwxrwx 1 root   35 Dec 30 18:46 cnn -> /opt/tensorflow/nvidia-examples/cnn\r\n",
      "lrwxrwxrwx 1 root   40 Dec 30 18:46 tensorrt -> /opt/tensorflow/nvidia-examples/tensorrt\r\n"
     ]
    }
   ],
   "source": [
    "!cd /workspace/nvidia-examples/ && ls -lag"
   ]
  },
  {
   "cell_type": "code",
   "execution_count": 5,
   "metadata": {
    "scrolled": true
   },
   "outputs": [
    {
     "name": "stdout",
     "output_type": "stream",
     "text": [
      "total 76\r\n",
      "drwxrwxr-x 3 root 4096 Dec 30 18:37 .\r\n",
      "drwxrwxr-x 1 root 4096 Dec 30 18:37 ..\r\n",
      "-rw-rw-r-- 1 root 1324 Dec 20 03:12 README.md\r\n",
      "-rwxrwxr-x 1 root 2513 Dec 30 18:37 alexnet.py\r\n",
      "-rwxrwxr-x 1 root 3247 Dec 30 18:37 googlenet.py\r\n",
      "-rwxrwxr-x 1 root 5731 Dec 30 18:37 inception_resnet_v2.py\r\n",
      "-rwxrwxr-x 1 root 5389 Dec 30 18:37 inception_v3.py\r\n",
      "-rwxrwxr-x 1 root 6147 Dec 30 18:37 inception_v4.py\r\n",
      "drwxrwxr-x 2 root 4096 Dec 30 18:37 nvutils\r\n",
      "-rwxrwxr-x 1 root 2337 Dec 30 18:37 overfeat.py\r\n",
      "-rwxrwxr-x 1 root 4796 Dec 30 18:37 resnet.py\r\n",
      "-rw-rw-r-- 1 root 3563 Dec 30 18:37 saved_model_restore.py\r\n",
      "-rwxrwxr-x 1 root 1987 Dec 30 18:37 trivial.py\r\n",
      "-rwxrwxr-x 1 root 3455 Dec 30 18:37 vgg.py\r\n",
      "-rwxrwxr-x 1 root 3657 Dec 30 18:37 xception.py\r\n"
     ]
    }
   ],
   "source": [
    "!cd /workspace/nvidia-examples/cnn/ && ls -lag"
   ]
  },
  {
   "cell_type": "code",
   "execution_count": 6,
   "metadata": {},
   "outputs": [
    {
     "name": "stdout",
     "output_type": "stream",
     "text": [
      "/opt/tensorflow/nvidia-examples/cnn\n"
     ]
    }
   ],
   "source": [
    "cd /workspace/nvidia-examples/cnn/"
   ]
  },
  {
   "cell_type": "markdown",
   "metadata": {},
   "source": [
    "# Alexnet"
   ]
  },
  {
   "cell_type": "code",
   "execution_count": 7,
   "metadata": {
    "scrolled": true
   },
   "outputs": [
    {
     "name": "stdout",
     "output_type": "stream",
     "text": [
      "#!/usr/bin/env python\r\n",
      "# Copyright 2018 The TensorFlow Authors. All Rights Reserved.\r\n",
      "#\r\n",
      "# Licensed under the Apache License, Version 2.0 (the \"License\");\r\n",
      "# you may not use this file except in compliance with the License.\r\n",
      "# You may obtain a copy of the License at\r\n",
      "#\r\n",
      "#     http://www.apache.org/licenses/LICENSE-2.0\r\n",
      "#\r\n",
      "# Unless required by applicable law or agreed to in writing, software\r\n",
      "# distributed under the License is distributed on an \"AS IS\" BASIS,\r\n",
      "# WITHOUT WARRANTIES OR CONDITIONS OF ANY KIND, either express or implied.\r\n",
      "# See the License for the specific language governing permissions and\r\n",
      "# limitations under the License.\r\n",
      "# ==============================================================================\r\n",
      "\r\n",
      "from __future__ import print_function\r\n",
      "from builtins import range\r\n",
      "import nvutils\r\n",
      "import tensorflow as tf\r\n",
      "\r\n",
      "nvutils.init()\r\n",
      "\r\n",
      "default_args = {\r\n",
      "    'image_width' : 227,\r\n",
      "    'image_height' : 227,\r\n",
      "    'image_format' : 'channels_first',\r\n",
      "    'distort_color' : False,\r\n",
      "    'batch_size' : 256,\r\n",
      "    'data_dir' : None,\r\n",
      "    'log_dir' : None,\r\n",
      "    'export_dir' : None,\r\n",
      "    'precision' : 'fp16',\r\n",
      "    'momentum' : 0.9,\r\n",
      "    'learning_rate_init' : 1.0,\r\n",
      "    'learning_rate_power' : 2.0,\r\n",
      "    'weight_decay' : 5e-4,\r\n",
      "    'loss_scale' : 128.0,\r\n",
      "    'larc_eta' : 0.0023,\r\n",
      "    'larc_mode' : 'clip',\r\n",
      "    'num_iter' : 91,\r\n",
      "    'checkpoint_secs' : None,\r\n",
      "    'display_every' : 10,\r\n",
      "    'iter_unit' : 'epoch'\r\n",
      "}\r\n",
      "\r\n",
      "args, _ = nvutils.parse_cmdline(default_args)\r\n",
      "\r\n",
      "def alexnet_owt(inputs, training):\r\n",
      "    \"\"\"Alexnet One Weird Trick model\r\n",
      "    https://arxiv.org/abs/1404.5997\r\n",
      "    \"\"\"\r\n",
      "    builder = nvutils.LayerBuilder(tf.nn.relu, args['image_format'], training)\r\n",
      "    # Note: VALID requires padding the images by 3 in width and height\r\n",
      "    x = inputs\r\n",
      "    x = builder.conv2d(x, 64, 11, 4, 'VALID')\r\n",
      "    x = builder.max_pooling2d(x, 3, 2)\r\n",
      "    x = builder.conv2d(x, 192,   5, 1, 'SAME')\r\n",
      "    x = builder.max_pooling2d(x, 3, 2)\r\n",
      "    x = builder.conv2d(x, 384,   3, 1, 'SAME')\r\n",
      "    x = builder.conv2d(x, 256,   3, 1, 'SAME')\r\n",
      "    x = builder.conv2d(x, 256,   3, 1, 'SAME')\r\n",
      "    x = builder.max_pooling2d(x, 3, 2)\r\n",
      "    x = builder.flatten2d(x)\r\n",
      "    x = builder.dense(x, 4096)\r\n",
      "    x = builder.dropout(x)\r\n",
      "    x = builder.dense(x, 4096)\r\n",
      "    x = builder.dropout(x)\r\n",
      "    return x\r\n",
      "\r\n",
      "if args['predict']:\r\n",
      "    if args['log_dir'] is not None and args['data_dir'] is not None:\r\n",
      "        nvutils.predict(alexnet_owt, args)\r\n",
      "else:\r\n",
      "    nvutils.train(alexnet_owt, args)\r\n",
      "    if args['log_dir'] is not None and args['data_dir'] is not None:\r\n",
      "        nvutils.validate(alexnet_owt, args)\r\n",
      "\r\n"
     ]
    }
   ],
   "source": [
    "!cat ./alexnet.py"
   ]
  },
  {
   "cell_type": "code",
   "execution_count": 8,
   "metadata": {},
   "outputs": [
    {
     "name": "stdout",
     "output_type": "stream",
     "text": [
      "PY 3.5.2 (default, Nov 12 2018, 13:43:14) \n",
      "[GCC 5.4.0 20160609]\n",
      "TF 1.12.0\n",
      "Script arguments:\n",
      "  --predict False\n",
      "  --iter_unit epoch\n",
      "  --batch_size 256\n",
      "  --num_iter 91\n",
      "  --precision fp16\n",
      "  --display_every 10\n",
      "Training\n"
     ]
    }
   ],
   "source": [
    "!./alexnet.py 2>/tmp/errors"
   ]
  },
  {
   "cell_type": "code",
   "execution_count": 9,
   "metadata": {},
   "outputs": [
    {
     "name": "stdout",
     "output_type": "stream",
     "text": [
      "PY 3.5.2 (default, Nov 12 2018, 13:43:14) \n",
      "[GCC 5.4.0 20160609]\n",
      "TF 1.12.0\n",
      "Script arguments:\n",
      "  --precision fp16\n",
      "  --predict False\n",
      "  --data_dir /datasets/imagenet_TFrecords\n",
      "  --num_iter 91\n",
      "  --display_every 10\n",
      "  --iter_unit epoch\n",
      "  --batch_size 256\n",
      "Training\n"
     ]
    }
   ],
   "source": [
    "!./alexnet.py --data_dir /datasets/imagenet_TFrecords 2>/tmp/errors"
   ]
  },
  {
   "cell_type": "markdown",
   "metadata": {},
   "source": [
    "# InceptionV3"
   ]
  },
  {
   "cell_type": "code",
   "execution_count": 10,
   "metadata": {},
   "outputs": [
    {
     "name": "stdout",
     "output_type": "stream",
     "text": [
      "PY 3.5.2 (default, Nov 12 2018, 13:43:14) \n",
      "[GCC 5.4.0 20160609]\n",
      "TF 1.12.0\n",
      "Script arguments:\n",
      "  --display_every 10\n",
      "  --data_dir /datasets/imagenet_TFrecords\n",
      "  --iter_unit epoch\n",
      "  --batch_size 128\n",
      "  --num_iter 90\n",
      "  --predict False\n",
      "  --precision fp16\n",
      "Training\n"
     ]
    }
   ],
   "source": [
    "!./inception_v3.py --data_dir /datasets/imagenet_TFrecords 2>/tmp/errors"
   ]
  },
  {
   "cell_type": "markdown",
   "metadata": {},
   "source": [
    "# Resnet"
   ]
  },
  {
   "cell_type": "code",
   "execution_count": 11,
   "metadata": {},
   "outputs": [
    {
     "name": "stdout",
     "output_type": "stream",
     "text": [
      "PY 3.5.2 (default, Nov 12 2018, 13:43:14) \n",
      "[GCC 5.4.0 20160609]\n",
      "TF 1.12.0\n",
      "Script arguments:\n",
      "  --iter_unit epoch\n",
      "  --batch_size 256\n",
      "  --precision fp16\n",
      "  --display_every 10\n",
      "  --layers 50\n",
      "  --predict False\n",
      "  --num_iter 90\n",
      "Training\n",
      "  Step Epoch Img/sec   Loss  LR\n"
     ]
    }
   ],
   "source": [
    "!./resnet.py --layers=50 2>/tmp/errors"
   ]
  },
  {
   "cell_type": "code",
   "execution_count": null,
   "metadata": {
    "scrolled": false
   },
   "outputs": [],
   "source": [
    "!./resnet.py --layers=50 --data_dir=/datasets/imagenet_TFrecords 2>/tmp/error"
   ]
  },
  {
   "cell_type": "code",
   "execution_count": null,
   "metadata": {},
   "outputs": [],
   "source": [
    "!./resnet.py --layers=50 --data_dir=/datasets/imagenet_TFrecords --precision=fp32 2>/tmp/error"
   ]
  },
  {
   "cell_type": "markdown",
   "metadata": {},
   "source": [
    "# DALI with Resnet"
   ]
  },
  {
   "cell_type": "code",
   "execution_count": null,
   "metadata": {},
   "outputs": [],
   "source": [
    "!./resnet.py --layers=50 --data_dir=/datasets/imagenet_TFrecords --precision=fp16 --data_idx_dir /datasets/imagenet_idx --use_dali GPU 2>/tmp/error"
   ]
  },
  {
   "cell_type": "markdown",
   "metadata": {},
   "source": [
    "# DALI with Alexnet"
   ]
  },
  {
   "cell_type": "code",
   "execution_count": null,
   "metadata": {},
   "outputs": [],
   "source": [
    "!./alexnet.py --data_dir=/datasets/imagenet_TFrecords --precision=fp16 --data_idx_dir /imagenet_idx --use_dali GPU 2>/tmp/error"
   ]
  },
  {
   "cell_type": "markdown",
   "metadata": {},
   "source": [
    "# Multi GPU with Resnet"
   ]
  },
  {
   "cell_type": "code",
   "execution_count": null,
   "metadata": {},
   "outputs": [],
   "source": [
    "!mpiexec --allow-run-as-root --bind-to socket -np 8 /workspace/nvidia-examples/cnn/resnet.py --layers=50 --data_dir=/datasets/imagenet_TFrecords --precision=fp16 --data_idx_dir /datasets/imagenet_idx --use_dali GPU 2>/tmp/error"
   ]
  },
  {
   "cell_type": "code",
   "execution_count": null,
   "metadata": {},
   "outputs": [],
   "source": []
  }
 ],
 "metadata": {
  "kernelspec": {
   "display_name": "Python 3",
   "language": "python",
   "name": "python3"
  },
  "language_info": {
   "codemirror_mode": {
    "name": "ipython",
    "version": 3
   },
   "file_extension": ".py",
   "mimetype": "text/x-python",
   "name": "python",
   "nbconvert_exporter": "python",
   "pygments_lexer": "ipython3",
   "version": "3.5.2"
  }
 },
 "nbformat": 4,
 "nbformat_minor": 2
}
